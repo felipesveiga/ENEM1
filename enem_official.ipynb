{
 "cells": [
  {
   "cell_type": "markdown",
   "id": "0eec6dc9-ade2-4305-9d23-cc8cd59c5f30",
   "metadata": {},
   "source": [
    "<p style = 'font-size:40px'> <strong> ENEM Data Analysis</strong> </p>"
   ]
  },
  {
   "cell_type": "markdown",
   "id": "b854186b-aa8d-486a-80c1-0cd1d8815a7b",
   "metadata": {},
   "source": [
    "<p style = 'font-size:30px'> <strong>Introduction</strong> </p>"
   ]
  },
  {
   "cell_type": "markdown",
   "id": "6dd728be-9611-414e-879c-f5c6ee3d95d5",
   "metadata": {},
   "source": [
    "* <p style = 'font-size:20px'> The goal of this project is to analyze the ENEM 2019 edition microdata.</p>\n",
    "\n",
    "* <p style = 'font-size:20px'> ENEM is a national High School exam annually applied by Brazil's federal government. It aims assessing the performance of the country's students relating to subjects ranging from text production to math problems resolution.</p>\n",
    "\n",
    "* <p style = 'font-size:20px'> After ENEM occurs, the Education Ministry is responsible for compiling the informations of every single participant into a csv file.</p>"
   ]
  },
  {
   "cell_type": "markdown",
   "id": "0cf58b03-f1a9-4127-9afe-1fbe8054b78d",
   "metadata": {},
   "source": [
    "<p style = 'font-size:30px'> <strong> What we are looking to achieve in this project</strong> </p>"
   ]
  },
  {
   "cell_type": "markdown",
   "id": "b2842d82-8449-4c69-b825-5eac33574cb6",
   "metadata": {},
   "source": [
    "* <p style = 'font-size:20px'> I've conceived five tasks to be carried out:</p>\n",
    "\n",
    "<p style = 'font-size:20px; margin-left:40px'> 1) Plot a detailed chart representing how the candidates performed in both of the exam's days.</p>\n",
    "\n",
    "<p style = 'font-size:20px; margin-left:40px'> 2) See if there is any correlation between the redaction grades and the illiteracy levels from Brazil's states.</p>\n",
    "\n",
    "<p style = 'font-size:20px; margin-left:40px'> 3) Compare the ENEM performance among the private and public schools across the country.</p>\n",
    "\n",
    "<p style = 'font-size:20px;margin-left:40px'> 4) Check if the students who live in states' capital cities outperform the ones who live in the rural area</p> \n",
    "\n",
    "<p style = 'font-size:20px;margin-left:40px'> 5) Display the participants average performance accordingly to their economic class.</p>"
   ]
  },
  {
   "cell_type": "markdown",
   "id": "9f3376be-a39c-4827-95c4-c9e21802af64",
   "metadata": {},
   "source": [
    "<p style = 'font-size:30px'> <strong>Data set presentation</strong> </p>\n",
    "\n",
    "<div style = 'font-size:20px'>\n",
    "    <ul>\n",
    "        <li>The file we are about to open is way too heavy to be accessed by pandas usual methods. Its size is more than 3 GB and we won't be able to use the well-known <em>read_csv</em> method without receiving a <em>MemoryError</em>.</li>\n",
    "        <li> Our strategy therefore is going to be converting all the csv data into an SQL database table!</li>"
   ]
  },
  {
   "cell_type": "code",
   "execution_count": 3,
   "id": "fc2efbd7-ac2f-4dfe-b33f-021e2d8df101",
   "metadata": {},
   "outputs": [],
   "source": [
    "# Creating our internal database with sqlite3 and sqlalchemy.\n",
    "import sqlite3\n",
    "from sqlalchemy import create_engine\n",
    "import pandas as pd\n",
    "import numpy as np\n",
    "csv_database = create_engine('sqlite:///csv_database.db')\n",
    "\n",
    "# Inserting ENEM's microdata into the database.\n",
    "for chunk in pd.read_csv('MICRODADOS_ENEM_2019.csv',encoding = 'ISO-8859-1', \n",
    "                         sep = ';', chunksize = 50000, iterator = True):\n",
    "    chunk.to_sql('enem', csv_database, if_exists = 'append')"
   ]
  },
  {
   "cell_type": "code",
   "execution_count": 361,
   "id": "89d1369c-62f0-447d-a121-26ffdbc6a45d",
   "metadata": {},
   "outputs": [
    {
     "data": {
      "text/html": [
       "<div>\n",
       "<style scoped>\n",
       "    .dataframe tbody tr th:only-of-type {\n",
       "        vertical-align: middle;\n",
       "    }\n",
       "\n",
       "    .dataframe tbody tr th {\n",
       "        vertical-align: top;\n",
       "    }\n",
       "\n",
       "    .dataframe thead th {\n",
       "        text-align: right;\n",
       "    }\n",
       "</style>\n",
       "<table border=\"1\" class=\"dataframe\">\n",
       "  <thead>\n",
       "    <tr style=\"text-align: right;\">\n",
       "      <th></th>\n",
       "      <th>NU_INSCRICAO</th>\n",
       "      <th>NO_MUNICIPIO_RESIDENCIA</th>\n",
       "      <th>SG_UF_RESIDENCIA</th>\n",
       "      <th>TP_ST_CONCLUSAO</th>\n",
       "      <th>TP_ESCOLA</th>\n",
       "      <th>TP_PRESENCA_CN</th>\n",
       "      <th>TP_PRESENCA_CH</th>\n",
       "      <th>NU_NOTA_LC</th>\n",
       "      <th>NU_NOTA_CH</th>\n",
       "      <th>NU_NOTA_MT</th>\n",
       "      <th>NU_NOTA_CN</th>\n",
       "      <th>NU_NOTA_REDACAO</th>\n",
       "      <th>Q006</th>\n",
       "    </tr>\n",
       "  </thead>\n",
       "  <tbody>\n",
       "    <tr>\n",
       "      <th>0</th>\n",
       "      <td>190001595656</td>\n",
       "      <td>Sorocaba</td>\n",
       "      <td>SP</td>\n",
       "      <td>1</td>\n",
       "      <td>1</td>\n",
       "      <td>0</td>\n",
       "      <td>0</td>\n",
       "      <td>NaN</td>\n",
       "      <td>NaN</td>\n",
       "      <td>NaN</td>\n",
       "      <td>NaN</td>\n",
       "      <td>NaN</td>\n",
       "      <td>A</td>\n",
       "    </tr>\n",
       "    <tr>\n",
       "      <th>1</th>\n",
       "      <td>190001421546</td>\n",
       "      <td>Feira de Santana</td>\n",
       "      <td>BA</td>\n",
       "      <td>1</td>\n",
       "      <td>1</td>\n",
       "      <td>0</td>\n",
       "      <td>0</td>\n",
       "      <td>NaN</td>\n",
       "      <td>NaN</td>\n",
       "      <td>NaN</td>\n",
       "      <td>NaN</td>\n",
       "      <td>NaN</td>\n",
       "      <td>C</td>\n",
       "    </tr>\n",
       "    <tr>\n",
       "      <th>2</th>\n",
       "      <td>190001133210</td>\n",
       "      <td>Fortaleza</td>\n",
       "      <td>CE</td>\n",
       "      <td>1</td>\n",
       "      <td>1</td>\n",
       "      <td>0</td>\n",
       "      <td>0</td>\n",
       "      <td>NaN</td>\n",
       "      <td>NaN</td>\n",
       "      <td>NaN</td>\n",
       "      <td>NaN</td>\n",
       "      <td>NaN</td>\n",
       "      <td>B</td>\n",
       "    </tr>\n",
       "    <tr>\n",
       "      <th>3</th>\n",
       "      <td>190001199383</td>\n",
       "      <td>Palmas</td>\n",
       "      <td>TO</td>\n",
       "      <td>1</td>\n",
       "      <td>1</td>\n",
       "      <td>1</td>\n",
       "      <td>1</td>\n",
       "      <td>537.3</td>\n",
       "      <td>503.6</td>\n",
       "      <td>392.0</td>\n",
       "      <td>483.8</td>\n",
       "      <td>460.0</td>\n",
       "      <td>E</td>\n",
       "    </tr>\n",
       "    <tr>\n",
       "      <th>4</th>\n",
       "      <td>190001237802</td>\n",
       "      <td>Contagem</td>\n",
       "      <td>MG</td>\n",
       "      <td>1</td>\n",
       "      <td>1</td>\n",
       "      <td>1</td>\n",
       "      <td>1</td>\n",
       "      <td>570.7</td>\n",
       "      <td>575.5</td>\n",
       "      <td>677.0</td>\n",
       "      <td>513.6</td>\n",
       "      <td>860.0</td>\n",
       "      <td>G</td>\n",
       "    </tr>\n",
       "  </tbody>\n",
       "</table>\n",
       "</div>"
      ],
      "text/plain": [
       "   NU_INSCRICAO NO_MUNICIPIO_RESIDENCIA SG_UF_RESIDENCIA  TP_ST_CONCLUSAO  \\\n",
       "0  190001595656                Sorocaba               SP                1   \n",
       "1  190001421546        Feira de Santana               BA                1   \n",
       "2  190001133210               Fortaleza               CE                1   \n",
       "3  190001199383                  Palmas               TO                1   \n",
       "4  190001237802                Contagem               MG                1   \n",
       "\n",
       "   TP_ESCOLA  TP_PRESENCA_CN  TP_PRESENCA_CH  NU_NOTA_LC  NU_NOTA_CH  \\\n",
       "0          1               0               0         NaN         NaN   \n",
       "1          1               0               0         NaN         NaN   \n",
       "2          1               0               0         NaN         NaN   \n",
       "3          1               1               1       537.3       503.6   \n",
       "4          1               1               1       570.7       575.5   \n",
       "\n",
       "   NU_NOTA_MT  NU_NOTA_CN  NU_NOTA_REDACAO Q006  \n",
       "0         NaN         NaN              NaN    A  \n",
       "1         NaN         NaN              NaN    C  \n",
       "2         NaN         NaN              NaN    B  \n",
       "3       392.0       483.8            460.0    E  \n",
       "4       677.0       513.6            860.0    G  "
      ]
     },
     "execution_count": 361,
     "metadata": {},
     "output_type": "execute_result"
    }
   ],
   "source": [
    "# And now, the informations will be pulled from the database through the use of the read_sql method!\n",
    "# To enhance the speed of the DataFrame receipt, we'll only list the columns that we'll be of use in the project. \n",
    "query = ''' SELECT NU_INSCRICAO, NO_MUNICIPIO_RESIDENCIA, SG_UF_RESIDENCIA, TP_ST_CONCLUSAO, \n",
    "            TP_ESCOLA, TP_PRESENCA_CN, TP_PRESENCA_CH, NU_NOTA_LC, NU_NOTA_CH,NU_NOTA_MT,\n",
    "            NU_NOTA_CN, NU_NOTA_REDACAO, Q006\n",
    "            FROM ENEM'''\n",
    "enem = pd.read_sql(query, csv_database)\n",
    "\n",
    "# Here, I'll let you take a look in the data we've obtained.\n",
    "enem.head()"
   ]
  },
  {
   "cell_type": "markdown",
   "id": "48962822-8d3c-4ca2-bfff-891a734784c5",
   "metadata": {},
   "source": [
    "<div style = 'font-size:30px'>\n",
    "    <p> <strong>Data Cleaning </strong></p>\n",
    "    </div>\n",
    "    \n",
    " <div style = 'font-size:20px'>\n",
    "    <ul>\n",
    "        <li> When thinking about a data set over individuals who have taken a test, the first thing we ought to consider is that not all candidates showed up when it was applied. As this project is focused primarily on performance, the absent people have no use.</li>\n",
    "    </ul>\n",
    "    </div>\n",
    "    "
   ]
  },
  {
   "cell_type": "code",
   "execution_count": 368,
   "id": "b07fa31d-6796-4a18-a8d6-ff02fff9e94b",
   "metadata": {},
   "outputs": [
    {
     "data": {
      "text/html": [
       "<div>\n",
       "<style scoped>\n",
       "    .dataframe tbody tr th:only-of-type {\n",
       "        vertical-align: middle;\n",
       "    }\n",
       "\n",
       "    .dataframe tbody tr th {\n",
       "        vertical-align: top;\n",
       "    }\n",
       "\n",
       "    .dataframe thead th {\n",
       "        text-align: right;\n",
       "    }\n",
       "</style>\n",
       "<table border=\"1\" class=\"dataframe\">\n",
       "  <thead>\n",
       "    <tr style=\"text-align: right;\">\n",
       "      <th></th>\n",
       "      <th>NU_INSCRICAO</th>\n",
       "      <th>NO_MUNICIPIO_RESIDENCIA</th>\n",
       "      <th>SG_UF_RESIDENCIA</th>\n",
       "      <th>TP_ST_CONCLUSAO</th>\n",
       "      <th>TP_ESCOLA</th>\n",
       "      <th>TP_PRESENCA_CN</th>\n",
       "      <th>TP_PRESENCA_CH</th>\n",
       "      <th>NU_NOTA_LC</th>\n",
       "      <th>NU_NOTA_CH</th>\n",
       "      <th>NU_NOTA_MT</th>\n",
       "      <th>NU_NOTA_CN</th>\n",
       "      <th>NU_NOTA_REDACAO</th>\n",
       "      <th>Q006</th>\n",
       "      <th>Avg Grade</th>\n",
       "    </tr>\n",
       "  </thead>\n",
       "  <tbody>\n",
       "    <tr>\n",
       "      <th>3</th>\n",
       "      <td>190001199383</td>\n",
       "      <td>Palmas</td>\n",
       "      <td>TO</td>\n",
       "      <td>1</td>\n",
       "      <td>1</td>\n",
       "      <td>1</td>\n",
       "      <td>1</td>\n",
       "      <td>0.670201</td>\n",
       "      <td>0.603042</td>\n",
       "      <td>0.397768</td>\n",
       "      <td>0.561970</td>\n",
       "      <td>0.46</td>\n",
       "      <td>E</td>\n",
       "      <td>0.538596</td>\n",
       "    </tr>\n",
       "    <tr>\n",
       "      <th>4</th>\n",
       "      <td>190001237802</td>\n",
       "      <td>Contagem</td>\n",
       "      <td>MG</td>\n",
       "      <td>1</td>\n",
       "      <td>1</td>\n",
       "      <td>1</td>\n",
       "      <td>1</td>\n",
       "      <td>0.711862</td>\n",
       "      <td>0.689139</td>\n",
       "      <td>0.686961</td>\n",
       "      <td>0.596585</td>\n",
       "      <td>0.86</td>\n",
       "      <td>G</td>\n",
       "      <td>0.708909</td>\n",
       "    </tr>\n",
       "    <tr>\n",
       "      <th>5</th>\n",
       "      <td>190001782198</td>\n",
       "      <td>Rondonópolis</td>\n",
       "      <td>MT</td>\n",
       "      <td>1</td>\n",
       "      <td>1</td>\n",
       "      <td>1</td>\n",
       "      <td>1</td>\n",
       "      <td>0.703755</td>\n",
       "      <td>0.772243</td>\n",
       "      <td>0.685236</td>\n",
       "      <td>0.654780</td>\n",
       "      <td>0.80</td>\n",
       "      <td>E</td>\n",
       "      <td>0.723203</td>\n",
       "    </tr>\n",
       "    <tr>\n",
       "      <th>6</th>\n",
       "      <td>190001421548</td>\n",
       "      <td>Paulo Afonso</td>\n",
       "      <td>BA</td>\n",
       "      <td>1</td>\n",
       "      <td>1</td>\n",
       "      <td>1</td>\n",
       "      <td>1</td>\n",
       "      <td>0.632656</td>\n",
       "      <td>0.584840</td>\n",
       "      <td>0.603450</td>\n",
       "      <td>0.562899</td>\n",
       "      <td>0.60</td>\n",
       "      <td>B</td>\n",
       "      <td>0.596769</td>\n",
       "    </tr>\n",
       "    <tr>\n",
       "      <th>9</th>\n",
       "      <td>190001592266</td>\n",
       "      <td>São Paulo</td>\n",
       "      <td>SP</td>\n",
       "      <td>2</td>\n",
       "      <td>2</td>\n",
       "      <td>1</td>\n",
       "      <td>1</td>\n",
       "      <td>0.626793</td>\n",
       "      <td>0.656329</td>\n",
       "      <td>0.487773</td>\n",
       "      <td>0.631781</td>\n",
       "      <td>0.40</td>\n",
       "      <td>F</td>\n",
       "      <td>0.560535</td>\n",
       "    </tr>\n",
       "  </tbody>\n",
       "</table>\n",
       "</div>"
      ],
      "text/plain": [
       "   NU_INSCRICAO NO_MUNICIPIO_RESIDENCIA SG_UF_RESIDENCIA  TP_ST_CONCLUSAO  \\\n",
       "3  190001199383                  Palmas               TO                1   \n",
       "4  190001237802                Contagem               MG                1   \n",
       "5  190001782198            Rondonópolis               MT                1   \n",
       "6  190001421548            Paulo Afonso               BA                1   \n",
       "9  190001592266               São Paulo               SP                2   \n",
       "\n",
       "   TP_ESCOLA  TP_PRESENCA_CN  TP_PRESENCA_CH  NU_NOTA_LC  NU_NOTA_CH  \\\n",
       "3          1               1               1    0.670201    0.603042   \n",
       "4          1               1               1    0.711862    0.689139   \n",
       "5          1               1               1    0.703755    0.772243   \n",
       "6          1               1               1    0.632656    0.584840   \n",
       "9          2               1               1    0.626793    0.656329   \n",
       "\n",
       "   NU_NOTA_MT  NU_NOTA_CN  NU_NOTA_REDACAO Q006  Avg Grade  \n",
       "3    0.397768    0.561970             0.46    E   0.538596  \n",
       "4    0.686961    0.596585             0.86    G   0.708909  \n",
       "5    0.685236    0.654780             0.80    E   0.723203  \n",
       "6    0.603450    0.562899             0.60    B   0.596769  \n",
       "9    0.487773    0.631781             0.40    F   0.560535  "
      ]
     },
     "execution_count": 368,
     "metadata": {},
     "output_type": "execute_result"
    }
   ],
   "source": [
    "# Here, we are filtering out the people who did not taken the first or second day of ENEM.\n",
    "enem = enem[(enem['TP_PRESENCA_CN'] == 1) & (enem['TP_PRESENCA_CH'] == 1)]\n",
    "\n",
    "# Another useful procedure to be conducted is the grades normalization. Unlike other tests you may have taken, ENEM \n",
    "# assesses the student grades based on how they performed in comparison to others in each subject.\n",
    "def min_max(column):\n",
    "    return (column - column.min()) / (column.max() - column.min())\n",
    "\n",
    "enem[['NU_NOTA_CN', 'NU_NOTA_CH', 'NU_NOTA_LC', 'NU_NOTA_MT', 'NU_NOTA_REDACAO']] = (enem[\n",
    "                                                                            ['NU_NOTA_CN', 'NU_NOTA_CH',\n",
    "                                                                            'NU_NOTA_LC', 'NU_NOTA_MT',\n",
    "                                                                             'NU_NOTA_REDACAO']].apply(min_max))\n",
    "\n",
    "# Creating a new column displaying the candidates average performance.\n",
    "enem['Avg Grade'] = enem[['NU_NOTA_LC', 'NU_NOTA_CH', 'NU_NOTA_MT', 'NU_NOTA_CN', 'NU_NOTA_REDACAO']].mean(axis = 1)\n",
    "\n",
    "enem.head()"
   ]
  },
  {
   "cell_type": "markdown",
   "id": "3307d435-b68c-413e-97df-b8d5a4fd8ef3",
   "metadata": {},
   "source": [
    "<div>\n",
    "<p style = 'font-size:30px'> <strong>Task 1</strong> </p>\n",
    "    </div>\n",
    "    \n",
    "<div>\n",
    "    <ul>\n",
    "        <li style = 'font-size:20px'> ENEM is applied in two different days. The first one is when the Portuguese and Human Sciences tests occur; in the second day the students need to solve Math and Nature Sciences questions.</li>\n",
    "        <li style = 'font-size:20px'>We can observe how well students were in both of those days by plotting a scatter plot. The x-axis and y-axis will show the grade of the subjects from each ENEM's days.</li>\n",
    "    </ul>\n",
    "    </div>"
   ]
  },
  {
   "cell_type": "code",
   "execution_count": 369,
   "id": "182b79e3-561e-445b-9317-0b91d3d1e158",
   "metadata": {},
   "outputs": [],
   "source": [
    "# In this task, we are about to make something quite unusual for most of the matplotlib productions you may have seen.\n",
    "# To plot the data, we are going to make use of the library's gridspec.GridSpec object.\n",
    "# We'll create two histograms along the scatter plot as a tool to assist the data visualization.\n",
    "import matplotlib.pyplot as plt\n",
    "import matplotlib.gridspec as gridspec\n",
    "from matplotlib.ticker import PercentFormatter\n",
    "\n",
    "# Making a function for the chart. The arguments are the DataFrame, the columns to be referred and the chart's axes\n",
    "                                                                                                    # labels.\n",
    "def grid(df, column1, column2, label1, label2):\n",
    "    plt.figure(figsize = (10,6.5))\n",
    "    \n",
    "    # Creating the gridspec.GridSpec with 4 rows and 4 columns\n",
    "    gspec = gridspec.GridSpec(4, 4, wspace = 0, hspace = 0)\n",
    "    \n",
    "    # Defining the spaces to be filled by the charts.\n",
    "    scatter = plt.subplot(gspec[:3, 1:])\n",
    "    bottom_histogram = plt.subplot(gspec[3, 1:], sharex = scatter)\n",
    "    left_histogram = plt.subplot(gspec[0:3, 0], sharey = scatter)\n",
    "\n",
    "    # Setting the configurations needed to our scatter plot.\n",
    "    scatter.scatter(df[column1], enem[column2], s = 0.1, c = '#0e2f44' , alpha = 1)\n",
    "    scatter.xaxis.tick_top()\n",
    "    scatter.yaxis.tick_right()\n",
    "    scatter.spines['left'].set_visible(False)\n",
    "    scatter.spines['bottom'].set_visible(False)\n",
    "    scatter.set_xlabel(label1)\n",
    "    scatter.set_ylabel(label2, rotation = 270, labelpad = 20)\n",
    "    scatter.xaxis.set_label_position('top') \n",
    "    scatter.yaxis.set_label_position('right')\n",
    "    # Here, I am plotting two lines indicating the average score for both of the subjects being analyzed.\n",
    "    scatter.axvline(np.mean(df[column1]), lw = 0.5, color = 'purple')\n",
    "    scatter.axhline(np.mean(df[column2]), lw = 0.5, color = 'purple')\n",
    "    scatter.set_xlim(0.250,1)\n",
    "    scatter.set_ylim(0.250,1)\n",
    "\n",
    "    # Setting the configurations needed to our bottom histogram plot.\n",
    "    bottom_histogram.hist(df[column1], bins = 100, color = 'gold', alpha = 0.3)\n",
    "    bottom_histogram.yaxis.tick_right()\n",
    "    bottom_histogram.invert_yaxis()\n",
    "    bottom_histogram.xaxis.tick_bottom()\n",
    "    bottom_histogram.spines['top'].set_visible(False)\n",
    "    bottom_histogram.spines['left'].set_visible(False)\n",
    "    bottom_histogram.set_xlabel(label1)\n",
    "    bottom_histogram.set_ylabel('Thousands', rotation = 270, labelpad = 15)\n",
    "    bottom_histogram.yaxis.set_label_position('right')\n",
    "    ytick_labels = [f'{int(number)}' for number in bottom_histogram.get_yticks() / 1000]\n",
    "    bottom_histogram.set_yticklabels(ytick_labels)\n",
    "\n",
    "    # Setting the configurations needed to the left histogram.\n",
    "    left_histogram.hist(df[column2], bins = 100, orientation = 'horizontal', color = 'gold', alpha = 0.3)\n",
    "    left_histogram.invert_xaxis()\n",
    "    left_histogram.spines['right'].set_visible(False)\n",
    "    left_histogram.spines['bottom'].set_visible(False)\n",
    "    left_histogram.xaxis.tick_top()\n",
    "    left_histogram.set_ylabel(label2)\n",
    "    left_histogram.xaxis.set_label_position('top')\n",
    "    left_histogram.set_xlabel('Thousands')\n",
    "    left_histogram.yaxis.set_label_position('left')\n",
    "    xticks_labels = [f'{int(number)}' for number in left_histogram.get_xticks() / 1000]\n",
    "    left_histogram.set_xticklabels(xticks_labels )\n"
   ]
  },
  {
   "cell_type": "code",
   "execution_count": 370,
   "id": "e9dfc6e7-9cef-422e-aba7-84654128bb5c",
   "metadata": {},
   "outputs": [
    {
     "name": "stderr",
     "output_type": "stream",
     "text": [
      "<ipython-input-369-878b758ac6a3>:48: UserWarning: FixedFormatter should only be used together with FixedLocator\n",
      "  bottom_histogram.set_yticklabels(ytick_labels)\n",
      "<ipython-input-369-878b758ac6a3>:61: UserWarning: FixedFormatter should only be used together with FixedLocator\n",
      "  left_histogram.set_xticklabels(xticks_labels )\n"
     ]
    },
    {
     "data": {
      "image/png": "[encoded data removed]",
      "text/plain": [
       "<Figure size 720x468 with 3 Axes>"
      ]
     },
     "metadata": {},
     "output_type": "display_data"
    }
   ],
   "source": [
    "grid(enem, 'NU_NOTA_LC', 'NU_NOTA_CH', 'Portuguese Grade', 'Human Sciences Grade');"
   ]
  },
  {
   "cell_type": "code",
   "execution_count": 371,
   "id": "d9eddb0c-31da-44e5-9f01-298fadad1f14",
   "metadata": {},
   "outputs": [
    {
     "name": "stderr",
     "output_type": "stream",
     "text": [
      "<ipython-input-369-878b758ac6a3>:48: UserWarning: FixedFormatter should only be used together with FixedLocator\n",
      "  bottom_histogram.set_yticklabels(ytick_labels)\n",
      "<ipython-input-369-878b758ac6a3>:61: UserWarning: FixedFormatter should only be used together with FixedLocator\n",
      "  left_histogram.set_xticklabels(xticks_labels )\n"
     ]
    },
    {
     "data": {
      "image/png": "[encoded data removed]",
      "text/plain": [
       "<Figure size 720x468 with 3 Axes>"
      ]
     },
     "metadata": {},
     "output_type": "display_data"
    }
   ],
   "source": [
    "grid(enem , 'NU_NOTA_MT', 'NU_NOTA_CN', 'Math Grade', 'Natural Sciences Grade')"
   ]
  },
  {
   "cell_type": "markdown",
   "id": "7127c14f-7f60-45e6-b72f-d0b1d7b6cf73",
   "metadata": {},
   "source": [
    "<div>\n",
    "    <ul style = 'font-size:20px'>\n",
    "        <li> What you've just seen are two scatter plots holding performance data from all ENEM candidates in both of the exam's days. On the left and bottom of the main graph, there are two histograms showing us the frequency of scores in thousands of students. The vertical and horizontal lines expose the mean grades for both of the subjects of the x and y axes. Note how all the informations dialogue with each other.</li>\n",
    "        \n",
    "    </ul>\n",
    "    </div>"
   ]
  },
  {
   "cell_type": "markdown",
   "id": "c0914734-750f-4ba4-87d0-22efc86b5225",
   "metadata": {},
   "source": [
    "<div>\n",
    "    <h1> <strong>Task 2</strong>\n",
    "    </h1>\n",
    "    </div>\n",
    "    \n",
    "    \n",
    "<div>\n",
    "    <ul style = 'font-size:20px'>\n",
    "        <li> One of the main challenges Brazil has been facing in the last decades in terms of education is handling the illiteracy levels among its population. Although many advancements were made, this topic still has plenty of relevance in the country's public debate. \n",
    "        </li>\n",
    "        \n",
    "        <li>\n",
    "            What we are expecting here is to see if there is any relation between the states average composition grades and their illiteracy indices.\n",
    "        </li>\n",
    "    \n",
    "    </div>"
   ]
  },
  {
   "cell_type": "code",
   "execution_count": 372,
   "id": "f157c574-5238-4776-b20f-e73dfc1f408a",
   "metadata": {},
   "outputs": [
    {
     "data": {
      "text/html": [
       "<div>\n",
       "<style scoped>\n",
       "    .dataframe tbody tr th:only-of-type {\n",
       "        vertical-align: middle;\n",
       "    }\n",
       "\n",
       "    .dataframe tbody tr th {\n",
       "        vertical-align: top;\n",
       "    }\n",
       "\n",
       "    .dataframe thead th {\n",
       "        text-align: right;\n",
       "    }\n",
       "</style>\n",
       "<table border=\"1\" class=\"dataframe\">\n",
       "  <thead>\n",
       "    <tr style=\"text-align: right;\">\n",
       "      <th></th>\n",
       "      <th>Illiterate Individuals (per 1000 people)</th>\n",
       "    </tr>\n",
       "    <tr>\n",
       "      <th>State</th>\n",
       "      <th></th>\n",
       "    </tr>\n",
       "  </thead>\n",
       "  <tbody>\n",
       "    <tr>\n",
       "      <th>Acre</th>\n",
       "      <td>74.0</td>\n",
       "    </tr>\n",
       "    <tr>\n",
       "      <th>Alagoas</th>\n",
       "      <td>443.0</td>\n",
       "    </tr>\n",
       "    <tr>\n",
       "      <th>Amapá</th>\n",
       "      <td>34.0</td>\n",
       "    </tr>\n",
       "    <tr>\n",
       "      <th>Amazonas</th>\n",
       "      <td>158.0</td>\n",
       "    </tr>\n",
       "    <tr>\n",
       "      <th>Bahia</th>\n",
       "      <td>1524.0</td>\n",
       "    </tr>\n",
       "  </tbody>\n",
       "</table>\n",
       "</div>"
      ],
      "text/plain": [
       "          Illiterate Individuals (per 1000 people)\n",
       "State                                             \n",
       "Acre                                          74.0\n",
       "Alagoas                                      443.0\n",
       "Amapá                                         34.0\n",
       "Amazonas                                     158.0\n",
       "Bahia                                       1524.0"
      ]
     },
     "execution_count": 372,
     "metadata": {},
     "output_type": "execute_result"
    }
   ],
   "source": [
    "# Calling out the file with the illiteracy levels.\n",
    "illiteracy = pd.read_excel('illiteracy_states.xlsx', skiprows = 5, usecols = [1,4], index_col =0,\n",
    "                          names = ['State', 'Illiterate Individuals (per 1000 people)']).sort_values(by = 'State')\n",
    "illiteracy.head()"
   ]
  },
  {
   "cell_type": "code",
   "execution_count": 373,
   "id": "4fac8b81-feda-462b-9c19-210b17857064",
   "metadata": {},
   "outputs": [
    {
     "data": {
      "text/plain": [
       "Estado do Brasil\n",
       "Acre        AC\n",
       "Alagoas     AL\n",
       "Amapá       AP\n",
       "Amazonas    AM\n",
       "Bahia       BA\n",
       "Name: Sigla, dtype: object"
      ]
     },
     "execution_count": 373,
     "metadata": {},
     "output_type": "execute_result"
    }
   ],
   "source": [
    "# Right when we look at the DataFrame we can find a problem: the states are being referred by their full name and not\n",
    "# by their name abbreviation. In order to make 'illiteracy' DF communicate with 'enem' we must rename all the\n",
    "# labels given.\n",
    "\n",
    "# I've found a very useful table in a website that will help us with this inconvenience. It stores all Brazil's\n",
    "# state name abbreviation.\n",
    "abb = pd.read_html('https://www.todamateria.com.br/siglas-estados-brasileiros/',index_col = 0 )[0]['Sigla']\n",
    "abb.head()"
   ]
  },
  {
   "cell_type": "code",
   "execution_count": 374,
   "id": "55a77fd9-0fe3-42a2-afaf-c97f186a49f3",
   "metadata": {},
   "outputs": [
    {
     "data": {
      "text/html": [
       "<div>\n",
       "<style scoped>\n",
       "    .dataframe tbody tr th:only-of-type {\n",
       "        vertical-align: middle;\n",
       "    }\n",
       "\n",
       "    .dataframe tbody tr th {\n",
       "        vertical-align: top;\n",
       "    }\n",
       "\n",
       "    .dataframe thead th {\n",
       "        text-align: right;\n",
       "    }\n",
       "</style>\n",
       "<table border=\"1\" class=\"dataframe\">\n",
       "  <thead>\n",
       "    <tr style=\"text-align: right;\">\n",
       "      <th></th>\n",
       "      <th>Illiterate Individuals (per 1000 people)</th>\n",
       "    </tr>\n",
       "    <tr>\n",
       "      <th>State</th>\n",
       "      <th></th>\n",
       "    </tr>\n",
       "  </thead>\n",
       "  <tbody>\n",
       "    <tr>\n",
       "      <th>AC</th>\n",
       "      <td>0.036545</td>\n",
       "    </tr>\n",
       "    <tr>\n",
       "      <th>AL</th>\n",
       "      <td>0.281728</td>\n",
       "    </tr>\n",
       "    <tr>\n",
       "      <th>AP</th>\n",
       "      <td>0.009967</td>\n",
       "    </tr>\n",
       "    <tr>\n",
       "      <th>AM</th>\n",
       "      <td>0.092359</td>\n",
       "    </tr>\n",
       "    <tr>\n",
       "      <th>BA</th>\n",
       "      <td>1.000000</td>\n",
       "    </tr>\n",
       "  </tbody>\n",
       "</table>\n",
       "</div>"
      ],
      "text/plain": [
       "       Illiterate Individuals (per 1000 people)\n",
       "State                                          \n",
       "AC                                     0.036545\n",
       "AL                                     0.281728\n",
       "AP                                     0.009967\n",
       "AM                                     0.092359\n",
       "BA                                     1.000000"
      ]
     },
     "execution_count": 374,
     "metadata": {},
     "output_type": "execute_result"
    }
   ],
   "source": [
    "# We can turn it into a dictionary and simply use it with the 'rename' method on 'illiteracy'.\n",
    "abb_dict = abb.to_dict()\n",
    "illiteracy.rename(index = abb_dict, inplace = True)\n",
    "\n",
    "# Lastly, it is important to us to normalize the data we've obtained.\n",
    "illiteracy = illiteracy.apply(min_max)\n",
    "illiteracy.head()"
   ]
  },
  {
   "cell_type": "code",
   "execution_count": 375,
   "id": "830c8331-d7c9-4ee1-9a53-d7cbd81ddbea",
   "metadata": {},
   "outputs": [
    {
     "data": {
      "text/html": [
       "<div>\n",
       "<style scoped>\n",
       "    .dataframe tbody tr th:only-of-type {\n",
       "        vertical-align: middle;\n",
       "    }\n",
       "\n",
       "    .dataframe tbody tr th {\n",
       "        vertical-align: top;\n",
       "    }\n",
       "\n",
       "    .dataframe thead th {\n",
       "        text-align: right;\n",
       "    }\n",
       "</style>\n",
       "<table border=\"1\" class=\"dataframe\">\n",
       "  <thead>\n",
       "    <tr style=\"text-align: right;\">\n",
       "      <th></th>\n",
       "      <th>Illiterate Individuals (per 1000 people)</th>\n",
       "      <th>NU_NOTA_REDACAO</th>\n",
       "    </tr>\n",
       "    <tr>\n",
       "      <th>SG_UF_RESIDENCIA</th>\n",
       "      <th></th>\n",
       "      <th></th>\n",
       "    </tr>\n",
       "  </thead>\n",
       "  <tbody>\n",
       "    <tr>\n",
       "      <th>AC</th>\n",
       "      <td>0.036545</td>\n",
       "      <td>0.542831</td>\n",
       "    </tr>\n",
       "    <tr>\n",
       "      <th>AL</th>\n",
       "      <td>0.281728</td>\n",
       "      <td>0.563636</td>\n",
       "    </tr>\n",
       "    <tr>\n",
       "      <th>AP</th>\n",
       "      <td>0.009967</td>\n",
       "      <td>0.539661</td>\n",
       "    </tr>\n",
       "    <tr>\n",
       "      <th>AM</th>\n",
       "      <td>0.092359</td>\n",
       "      <td>0.518494</td>\n",
       "    </tr>\n",
       "    <tr>\n",
       "      <th>BA</th>\n",
       "      <td>1.000000</td>\n",
       "      <td>0.564113</td>\n",
       "    </tr>\n",
       "  </tbody>\n",
       "</table>\n",
       "</div>"
      ],
      "text/plain": [
       "                  Illiterate Individuals (per 1000 people)  NU_NOTA_REDACAO\n",
       "SG_UF_RESIDENCIA                                                           \n",
       "AC                                                0.036545         0.542831\n",
       "AL                                                0.281728         0.563636\n",
       "AP                                                0.009967         0.539661\n",
       "AM                                                0.092359         0.518494\n",
       "BA                                                1.000000         0.564113"
      ]
     },
     "execution_count": 375,
     "metadata": {},
     "output_type": "execute_result"
    }
   ],
   "source": [
    "# Obtaining the average composition grade per state.\n",
    "gp = enem.groupby('SG_UF_RESIDENCIA')['NU_NOTA_REDACAO'].mean()\n",
    "\n",
    "# Merging the group by output with 'illiteracy'.\n",
    "task2 = illiteracy.merge(gp, left_index = True, right_on = 'SG_UF_RESIDENCIA')\n",
    "task2.head()"
   ]
  },
  {
   "cell_type": "code",
   "execution_count": 376,
   "id": "2f691712-d79e-4f1c-b48c-abb10fc1595e",
   "metadata": {},
   "outputs": [
    {
     "data": {
      "text/plain": [
       "0.22708447890544572"
      ]
     },
     "execution_count": 376,
     "metadata": {},
     "output_type": "execute_result"
    }
   ],
   "source": [
    "# Now, it is time to perform the calculation!\n",
    "from scipy.stats import pearsonr\n",
    "pearsonr(task2['NU_NOTA_REDACAO'], task2['Illiterate Individuals (per 1000 people)'])[0]"
   ]
  },
  {
   "cell_type": "markdown",
   "id": "e6b9959c-40ff-40da-aa2c-ca9321057ca5",
   "metadata": {},
   "source": [
    "<div>\n",
    "    <ul style = 'font-size:20px'>\n",
    "        <li> Since the result was not even a negative value we can deny the possibility that the composition grades reflect the states' illiteracy levels.\n",
    "        </li>\n",
    "    </ul>\n",
    "</div>"
   ]
  },
  {
   "cell_type": "markdown",
   "id": "7ecb3f9c-78d4-4fa0-9555-140929385f06",
   "metadata": {},
   "source": [
    "<div>\n",
    "    <h1> <strong>Task 3</strong>\n",
    "    </h1>\n",
    "    </div>\n",
    "    \n",
    "<div>\n",
    "    <ul style = 'font-size:20px'>\n",
    "        <li> Another main issue Brazil faces with its educational system is the qualitative discrepancy between private and public schools. Unfortunately, schools managed by local and state governments end up with not providing  good teachers and materials to their students that could better prepare them to university entrance exams.\n",
    "        </li>\n",
    "        \n",
    "        <li> The purpose of this task therefore is to expose the performance differences between individuals who've studied in private schools and their public schools counterparts.\n",
    "        </li>\n",
    "        \n",
    "</div>\n",
    "    \n",
    "    \n",
    "<div>"
   ]
  },
  {
   "cell_type": "code",
   "execution_count": 377,
   "id": "daf00f2f-feed-444b-ac52-00bab2ba0fcc",
   "metadata": {},
   "outputs": [],
   "source": [
    "# Getting the private and public schools grades separately. \n",
    "private = (enem[(enem['TP_ST_CONCLUSAO'] == 2 ) & (enem['TP_ESCOLA'] == 3)]\n",
    "           [['NU_NOTA_LC', 'NU_NOTA_CH', 'NU_NOTA_MT', 'NU_NOTA_CN', 'NU_NOTA_REDACAO']].mean())\n",
    "\n",
    "private.name = 'Private'\n",
    "public = (enem[(enem['TP_ST_CONCLUSAO'] == 2 ) & (enem['TP_ESCOLA'] == 2)]\n",
    "          [['NU_NOTA_LC', 'NU_NOTA_CH', 'NU_NOTA_MT', 'NU_NOTA_CN', 'NU_NOTA_REDACAO']].mean()) \n",
    "\n",
    "public.name = 'Public'"
   ]
  },
  {
   "cell_type": "code",
   "execution_count": 378,
   "id": "4265292a-2e0a-46a9-a5f2-5be87abae8ef",
   "metadata": {},
   "outputs": [
    {
     "data": {
      "text/html": [
       "<div>\n",
       "<style scoped>\n",
       "    .dataframe tbody tr th:only-of-type {\n",
       "        vertical-align: middle;\n",
       "    }\n",
       "\n",
       "    .dataframe tbody tr th {\n",
       "        vertical-align: top;\n",
       "    }\n",
       "\n",
       "    .dataframe thead th {\n",
       "        text-align: right;\n",
       "    }\n",
       "</style>\n",
       "<table border=\"1\" class=\"dataframe\">\n",
       "  <thead>\n",
       "    <tr style=\"text-align: right;\">\n",
       "      <th></th>\n",
       "      <th>Subject</th>\n",
       "      <th>School Type</th>\n",
       "      <th>Avg Grade</th>\n",
       "    </tr>\n",
       "  </thead>\n",
       "  <tbody>\n",
       "    <tr>\n",
       "      <th>0</th>\n",
       "      <td>NU_NOTA_LC</td>\n",
       "      <td>Private</td>\n",
       "      <td>0.706356</td>\n",
       "    </tr>\n",
       "    <tr>\n",
       "      <th>1</th>\n",
       "      <td>NU_NOTA_LC</td>\n",
       "      <td>Public</td>\n",
       "      <td>0.635334</td>\n",
       "    </tr>\n",
       "    <tr>\n",
       "      <th>2</th>\n",
       "      <td>NU_NOTA_CH</td>\n",
       "      <td>Private</td>\n",
       "      <td>0.681164</td>\n",
       "    </tr>\n",
       "    <tr>\n",
       "      <th>3</th>\n",
       "      <td>NU_NOTA_CH</td>\n",
       "      <td>Public</td>\n",
       "      <td>0.590449</td>\n",
       "    </tr>\n",
       "    <tr>\n",
       "      <th>4</th>\n",
       "      <td>NU_NOTA_MT</td>\n",
       "      <td>Private</td>\n",
       "      <td>0.628911</td>\n",
       "    </tr>\n",
       "  </tbody>\n",
       "</table>\n",
       "</div>"
      ],
      "text/plain": [
       "      Subject School Type  Avg Grade\n",
       "0  NU_NOTA_LC     Private   0.706356\n",
       "1  NU_NOTA_LC      Public   0.635334\n",
       "2  NU_NOTA_CH     Private   0.681164\n",
       "3  NU_NOTA_CH      Public   0.590449\n",
       "4  NU_NOTA_MT     Private   0.628911"
      ]
     },
     "execution_count": 378,
     "metadata": {},
     "output_type": "execute_result"
    }
   ],
   "source": [
    "# Merging the Series produced. By looking at the DataFrame evident the poorer performance from government \n",
    "# school students.\n",
    "grades = pd.merge(private, public, left_index = True, right_index = True).stack().reset_index()\n",
    "grades.columns = ['Subject', 'School Type', 'Avg Grade']\n",
    "grades.head()"
   ]
  },
  {
   "cell_type": "code",
   "execution_count": 379,
   "id": "a0ce3249-3d38-4acc-a365-ab1b76b320ca",
   "metadata": {},
   "outputs": [
    {
     "data": {
      "image/png": "[encoded data removed]",
      "text/plain": [
       "<Figure size 576x360 with 1 Axes>"
      ]
     },
     "metadata": {},
     "output_type": "display_data"
    }
   ],
   "source": [
    "# To end the task, let's plot a bar chart exposing the grade differences.\n",
    "# Private school students outperform the others in ENEM's every single subject.\n",
    "import seaborn as sns\n",
    "plt.figure(figsize = (8, 5))\n",
    "sns.set_style('dark')\n",
    "bars = sns.barplot(x = 'Subject', y = 'Avg Grade' ,hue = 'School Type',data = grades)\n",
    "\n",
    "# Setting the aesthetic aspects of the chart.\n",
    "bars.set_title('ENEM Private x Public School Students Performance', fontfamily = 'Times' ,fontsize = 14, pad = 5)\n",
    "bars.set(xlabel = None, ylabel = None, yticks = [], ylim = [0,1], \n",
    "         xticklabels =['Portuguese', 'Human Sciences', 'Math', 'Natural Sciences', 'Composition'] )\n",
    "\n",
    "for i in range(0, len(grades), 2):\n",
    "    plt.text( (i/2)-0.3 , grades.iloc[i, 2] - 0.1, f'{grades.iloc[i, 2]:.2f}', rotation = 270, color = 'white',\n",
    "            fontsize = 13, weight = 'bold')\n",
    "    \n",
    "for i in range(1, len(grades), 2):\n",
    "    plt.text( (i/2)-0.4 , grades.iloc[i, 2] - 0.1, f'{grades.iloc[i, 2]:.2f}', rotation = 270, color = 'white',\n",
    "             fontsize = 13,weight = 'bold')\n",
    "plt.legend(loc = 'upper right', frameon = False);"
   ]
  },
  {
   "cell_type": "markdown",
   "id": "36392156-6e4f-4254-a2b2-75288a203138",
   "metadata": {},
   "source": [
    "<div>\n",
    "<h1 style = 'font-size:30px'> \n",
    "    <strong>Task 4</strong>\n",
    "        </h1>\n",
    "    \n",
    "</div>\n",
    "\n",
    "<div>\n",
    "    <ul style = 'font-size:20px'>\n",
    "        <li>Here we'll perform a hypothesis test that will address the goal of this task.\n",
    "        </li>\n",
    "        \n",
    "        <li> Null Hypothesis: The ENEM average performance from capital cities students is the SAME as the one from rural area students.\n",
    "        </li>\n",
    "        \n",
    "        <li> Alternative Hypothesis: The ENEM average performance from capital cities students is NOT THE SAME as the one from rural area students.\n",
    "        </li>\n",
    "        \n",
    "        <li>First of all we need to be able to segregate the students who live in state capitals from the ones who live in the rural areas.\n",
    "        </li>\n",
    "        \n",
    "    </ul>\n",
    "    </div>"
   ]
  },
  {
   "cell_type": "code",
   "execution_count": 380,
   "id": "08111ce3-5dd3-4664-9518-fc77a9361ebb",
   "metadata": {},
   "outputs": [
    {
     "data": {
      "text/html": [
       "<div>\n",
       "<style scoped>\n",
       "    .dataframe tbody tr th:only-of-type {\n",
       "        vertical-align: middle;\n",
       "    }\n",
       "\n",
       "    .dataframe tbody tr th {\n",
       "        vertical-align: top;\n",
       "    }\n",
       "\n",
       "    .dataframe thead th {\n",
       "        text-align: right;\n",
       "    }\n",
       "</style>\n",
       "<table border=\"1\" class=\"dataframe\">\n",
       "  <thead>\n",
       "    <tr style=\"text-align: right;\">\n",
       "      <th></th>\n",
       "      <th>Capital</th>\n",
       "    </tr>\n",
       "    <tr>\n",
       "      <th>Code</th>\n",
       "      <th></th>\n",
       "    </tr>\n",
       "  </thead>\n",
       "  <tbody>\n",
       "    <tr>\n",
       "      <th>AC</th>\n",
       "      <td>Rio Branco</td>\n",
       "    </tr>\n",
       "    <tr>\n",
       "      <th>AL</th>\n",
       "      <td>Maceió</td>\n",
       "    </tr>\n",
       "    <tr>\n",
       "      <th>AP</th>\n",
       "      <td>Macapá</td>\n",
       "    </tr>\n",
       "    <tr>\n",
       "      <th>AM</th>\n",
       "      <td>Manaus</td>\n",
       "    </tr>\n",
       "    <tr>\n",
       "      <th>BA</th>\n",
       "      <td>Salvador</td>\n",
       "    </tr>\n",
       "  </tbody>\n",
       "</table>\n",
       "</div>"
      ],
      "text/plain": [
       "         Capital\n",
       "Code            \n",
       "AC    Rio Branco\n",
       "AL        Maceió\n",
       "AP        Macapá\n",
       "AM        Manaus\n",
       "BA      Salvador"
      ]
     },
     "execution_count": 380,
     "metadata": {},
     "output_type": "execute_result"
    }
   ],
   "source": [
    "# To tell Python which cities are the state capitals I've imported this table found on Wikipedia.\n",
    "capital_cities = (pd.read_html('https://en.wikipedia.org/wiki/Federative_units_of_Brazil')[1][['Code', 'Capital']]\n",
    "                 .set_index('Code'))\n",
    "capital_cities.head()"
   ]
  },
  {
   "cell_type": "code",
   "execution_count": 381,
   "id": "c9de85ba-7210-4b5d-afb0-de4965621f73",
   "metadata": {},
   "outputs": [
    {
     "data": {
      "text/plain": [
       "['Rio Branco',\n",
       " 'Maceió',\n",
       " 'Macapá',\n",
       " 'Manaus',\n",
       " 'Salvador',\n",
       " 'Fortaleza',\n",
       " 'Brasília',\n",
       " 'Vitória',\n",
       " 'Goiânia',\n",
       " 'São Luís',\n",
       " 'Cuiabá',\n",
       " 'Campo Grande',\n",
       " 'Belo Horizonte',\n",
       " 'Belém',\n",
       " 'João Pessoa',\n",
       " 'Curitiba',\n",
       " 'Recife',\n",
       " 'Teresina',\n",
       " 'Rio de Janeiro',\n",
       " 'Natal',\n",
       " 'Porto Alegre',\n",
       " 'Porto Velho',\n",
       " 'Boa Vista',\n",
       " 'Florianópolis',\n",
       " 'São Paulo',\n",
       " 'Aracaju',\n",
       " 'Palmas']"
      ]
     },
     "execution_count": 381,
     "metadata": {},
     "output_type": "execute_result"
    }
   ],
   "source": [
    "# Creating a list containing all the capital cities names.\n",
    "capital_cities = list(capital_cities['Capital'])\n",
    "capital_cities"
   ]
  },
  {
   "cell_type": "code",
   "execution_count": 382,
   "id": "b4d8d287-8351-44bf-8dc0-45027203e7dd",
   "metadata": {},
   "outputs": [],
   "source": [
    "# First of all we need to be able to divide the students who live in state capitals from the ones \n",
    "# who live in the rural areas.\n",
    "# With the list on our hands it will be possible to segregate the data accodingly to our desires.\n",
    "capital_students = enem[(enem['NO_MUNICIPIO_RESIDENCIA'].isin(capital_cities)) & (enem['TP_ST_CONCLUSAO'] == 2 ) ]\n",
    "rural_students = enem[~(enem['NO_MUNICIPIO_RESIDENCIA'].isin(capital_cities)) & (enem['TP_ST_CONCLUSAO'] == 2 )]"
   ]
  },
  {
   "cell_type": "code",
   "execution_count": 390,
   "id": "aef3c9e3-afff-4d6e-8682-249487dcdd25",
   "metadata": {},
   "outputs": [],
   "source": [
    "# Obtaining the mean average from every single student in both of the groups.\n",
    "capital_mean = capital_students['Avg Grade']\n",
    "rural_mean = rural_students['Avg Grade']"
   ]
  },
  {
   "cell_type": "code",
   "execution_count": 391,
   "id": "9cb2b526-89c8-47d1-a3f3-9f27a8892b07",
   "metadata": {},
   "outputs": [
    {
     "data": {
      "text/plain": [
       "1.1772680534969158"
      ]
     },
     "execution_count": 391,
     "metadata": {},
     "output_type": "execute_result"
    }
   ],
   "source": [
    "# Pre-test requirement: ensure that the variances of 'capital_mean' and 'rural_mean' are equal.\n",
    "\n",
    "# Since the ratio between the highest and the lowest variance is less than four, we can assume that the variances\n",
    "# are the same, meaning that we do not have to perform a Welch's t-test.\n",
    "capital_mean.var() / rural_mean.var()"
   ]
  },
  {
   "cell_type": "code",
   "execution_count": 392,
   "id": "24ca989b-dab1-45c4-accb-0fab5a07cc2d",
   "metadata": {},
   "outputs": [
    {
     "name": "stdout",
     "output_type": "stream",
     "text": [
      "0.00\n"
     ]
    }
   ],
   "source": [
    "#  We are going to set the Significance Level as 5%.\n",
    "from scipy.stats import ttest_ind\n",
    "pvalue = ttest_ind(capital_mean.sample(1000), rural_mean.sample(1000))[1]\n",
    "print(f'{pvalue:.2f}')"
   ]
  },
  {
   "cell_type": "markdown",
   "id": "74679921-0863-43ef-b3de-7bda51d3d8a4",
   "metadata": {},
   "source": [
    "<div>\n",
    "    <ul style = 'font-size:20px'>\n",
    "        <li> The p-value obtained was less than 5%. Hence, we can accept the Alternative Hypothesis.\n",
    "        </li>"
   ]
  },
  {
   "cell_type": "markdown",
   "id": "0209d671-e616-488e-9655-6fadd15d245c",
   "metadata": {},
   "source": [
    "<h1 style = 'font-size:30px'> Task 5</h1>\n",
    "\n",
    "<div>\n",
    "    <ul style = 'font-size:20px'>\n",
    "        <li> You can interpret this task as a complement of task 3. Its main goal is going to expose the average performance from students according to the economic layer to which they pertain. Do the poorer participants have worse grades than their richer counterparts?\n",
    "    </ul>\n",
    "    </div>"
   ]
  },
  {
   "cell_type": "code",
   "execution_count": 393,
   "id": "5cff354b-682a-4a45-b957-871ac6b3ff13",
   "metadata": {},
   "outputs": [
    {
     "data": {
      "text/plain": [
       "{'A': 'No revenue',\n",
       " 'B': '≤ R$ 998,00',\n",
       " 'C': 'R$ 998,01 - R$ 1.497,00.',\n",
       " 'D': 'R$ 1.497,01 - R$ 1.996,00.',\n",
       " 'E': 'R$ 1.996,01 - R$ 2.495,00.',\n",
       " 'F': 'R$ 2.495,01 - R$ 2.994,00.',\n",
       " 'G': 'R$ 2.994,01 - R$ 3.992,00.',\n",
       " 'H': 'R$ 3.992,01 - R$ 4.990,00.',\n",
       " 'I': 'R$ 4.990,01 - R$ 5.988,00.',\n",
       " 'J': 'R$ 5.988,01 - R$ 6.986,00.',\n",
       " 'K': 'R$ 6.986,01 - R$ 7.984,00.',\n",
       " 'L': 'R$ 7.984,01 - R$ 8.982,00.',\n",
       " 'M': 'R$ 8.982,01 - R$ 9.980,00.',\n",
       " 'N': 'R$ 9.980,01 - R$ 11.976,00.',\n",
       " 'O': 'R$ 11.976,01 - R$ 14.970,00.',\n",
       " 'P': 'R$ 14.970,01 - R$ 19.960,00.',\n",
       " 'Q': '≥ R$ 19.960,00.'}"
      ]
     },
     "execution_count": 393,
     "metadata": {},
     "output_type": "execute_result"
    }
   ],
   "source": [
    "# Each economic layer is labeled by a letter. So, in this cell, I'll show you the actual correspondence of the codes.\n",
    "economic_layers = pd.read_excel('Dicion rio_Microdados_Enem_2019.xlsx', sheet_name = 'MICRODADOS_ENEM_2019', \n",
    "                    usecols = [2,3],index_col = 0).iloc[334:351]\n",
    "economic_layers.rename(columns = {'Unnamed: 3':'Revenue Range'}, inplace =  True)\n",
    "economic_layers['Revenue Range'].replace({'Até':'-', 'até': '-' , 'De': '', 'Nenhuma renda.':'No revenue', '  ':''},\n",
    "                                         regex = True, inplace = True)\n",
    "economic_layers['Revenue Range'].replace({'- R\\$ 998,00.':'≤ R$ 998,00', 'Mais de':'≥'}, regex = True, inplace = True)\n",
    "economic_layers['Revenue Range'] = economic_layers['Revenue Range'].str.lstrip()\n",
    "economic_layers = economic_layers.to_dict()['Revenue Range']\n",
    "economic_layers"
   ]
  },
  {
   "cell_type": "code",
   "execution_count": 395,
   "id": "3d5f87f8-5a89-4cea-833f-aff2679127b5",
   "metadata": {},
   "outputs": [
    {
     "data": {
      "text/plain": [
       "Text(0.5, 1.0, 'Overall Performance per Economic Class')"
      ]
     },
     "execution_count": 395,
     "metadata": {},
     "output_type": "execute_result"
    },
    {
     "data": {
      "image/png": "[encoded data removed]",
      "text/plain": [
       "<Figure size 1080x360 with 1 Axes>"
      ]
     },
     "metadata": {},
     "output_type": "display_data"
    }
   ],
   "source": [
    "# Firstly, we ought to group the economic classes along their students average performance.\n",
    "gp = enem.groupby(['Q006'])['Avg Grade'].mean()\n",
    "\n",
    "# Plotting the desired chart.\n",
    "gp.plot(kind = 'line', figsize = (15, 5),\n",
    "                                    fontsize = 8, xlabel = '', ylim = [0.5 , 0.73], xticks = range(len(gp.index)))\n",
    "plt.title('Overall Performance per Economic Class', fontsize = 18, fontfamily = 'Times')"
   ]
  },
  {
   "cell_type": "markdown",
   "id": "2bc45a51-4aa5-48d2-9c13-376526d1038e",
   "metadata": {},
   "source": [
    "<h1 style = 'font-size:40px'> Final Thoughts</h1>\n",
    "\n",
    "<div>\n",
    "    \n",
    "    <ul style = 'font-size:20px'>\n",
    "        <li> With that, we've completed our project! I hope you've find it interesting! If you do so, please check out my social media accounts, such as <a href = 'https://www.linkedin.com/in/felipe-veiga-9a59501bb/'> LinkedIn</a>, <a href = 'https://github.com/felipesveiga' >GitHub</a> and <a href = 'https://medium.com/@felipesveiga'> Medium!</a>\n",
    "        </li>\n",
    "    </ul>\n",
    "    \n",
    "</div>"
   ]
  }
 ],
 "metadata": {
  "kernelspec": {
   "display_name": "Python 3",
   "language": "python",
   "name": "python3"
  },
  "language_info": {
   "codemirror_mode": {
    "name": "ipython",
    "version": 3
   },
   "file_extension": ".py",
   "mimetype": "text/x-python",
   "name": "python",
   "nbconvert_exporter": "python",
   "pygments_lexer": "ipython3",
   "version": "3.8.8"
  }
 },
 "nbformat": 4,
 "nbformat_minor": 5
}
